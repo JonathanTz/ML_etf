{
 "cells": [
  {
   "cell_type": "code",
   "execution_count": 5,
   "metadata": {},
   "outputs": [],
   "source": [
    "import urllib.request\n",
    "import os\n",
    "import numpy \n",
    "import pandas as pd"
   ]
  },
  {
   "cell_type": "code",
   "execution_count": 3,
   "metadata": {},
   "outputs": [
    {
     "name": "stdout",
     "output_type": "stream",
     "text": [
      "download: ('titanic3.xls', <http.client.HTTPMessage object at 0x7fde28731828>)\n"
     ]
    }
   ],
   "source": [
    "###download titanic data\n",
    "url=\"http://biostat.mc.vanderbilt.edu/wiki/pub/Main/DataSets/titanic3.xls\"\n",
    "filepath=\"titanic3.xls\"\n",
    "if not os.path.isfile(filepath):\n",
    "    result=urllib.request.urlretrieve(url,filepath)\n",
    "    print('download:',result)"
   ]
  },
  {
   "cell_type": "code",
   "execution_count": 28,
   "metadata": {},
   "outputs": [],
   "source": [
    "all_df=pd.read_excel(filepath)\n",
    "all_df=all_df[['survived','name','pclass','sex','age','sibsp','parch','fare','embarked']]\n",
    "df=all_df.drop(['name'],axis=1)"
   ]
  },
  {
   "cell_type": "code",
   "execution_count": 96,
   "metadata": {},
   "outputs": [
    {
     "data": {
      "text/plain": [
       "array([1., 1., 0., ..., 0., 0., 0.])"
      ]
     },
     "execution_count": 96,
     "metadata": {},
     "output_type": "execute_result"
    }
   ],
   "source": [
    "from sklearn import preprocessing\n",
    "split=numpy.random.rand(len(all_df))<0.8\n",
    "train_df=all_df[split]\n",
    "test_df=all_df[~split]\n",
    "def PreprocessData(rawdata):\n",
    "    ####data Preprocess\n",
    "    df=rawdata.drop(['name'],axis=1)\n",
    "    df['age']=df['age'].fillna(df['age'].mean())\n",
    "    df['fare']=df['fare'].fillna(df['fare'].mean())\n",
    "    df['sex']=df['sex'].map({'female':0,'male':1}).astype(int)\n",
    "    df=pd.get_dummies(data=df,columns=['embarked'])\n",
    "    ###convert dataframe tp array\n",
    "    ndarray=df.values\n",
    "    label=ndarray[:,0]\n",
    "    features=ndarray[:,1:]\n",
    "    \n",
    "    minmax_scale=preprocessing.MinMaxScaler(feature_range=(0,1))\n",
    "    scaledfeatures=minmax_scale.fit_transform(features)\n",
    "    return scaledfeatures,label\n",
    "X_train,y_train=PreprocessData(train_df)\n",
    "X_test,y_test=PreprocessData(test_df)\n",
    "y_train"
   ]
  },
  {
   "cell_type": "code",
   "execution_count": 99,
   "metadata": {},
   "outputs": [],
   "source": [
    "from keras.models import Sequential\n",
    "from keras.layers import Dense,Dropout\n",
    "model=Sequential()\n",
    "##build input layer and hidden layer\n",
    "model.add(Dense(units=40,input_dim=9,kernel_initializer='uniform',activation='relu'))\n",
    "##build hidden layer 2\n",
    "model.add(Dense(units=30,kernel_initializer='uniform',activation='relu'))\n",
    "##build output layer\n",
    "model.add(Dense(units=1,kernel_initializer='uniform',activation='sigmoid'))"
   ]
  },
  {
   "cell_type": "code",
   "execution_count": 114,
   "metadata": {},
   "outputs": [
    {
     "name": "stdout",
     "output_type": "stream",
     "text": [
      "Train on 932 samples, validate on 104 samples\n",
      "Epoch 1/30\n",
      " - 7s - loss: 0.6895 - acc: 0.5912 - val_loss: 0.6667 - val_acc: 0.7885\n",
      "Epoch 2/30\n",
      " - 0s - loss: 0.6611 - acc: 0.5933 - val_loss: 0.5619 - val_acc: 0.7885\n",
      "Epoch 3/30\n",
      " - 0s - loss: 0.6084 - acc: 0.6352 - val_loss: 0.4823 - val_acc: 0.7885\n",
      "Epoch 4/30\n",
      " - 0s - loss: 0.5714 - acc: 0.7446 - val_loss: 0.4585 - val_acc: 0.8173\n",
      "Epoch 5/30\n",
      " - 0s - loss: 0.5458 - acc: 0.7629 - val_loss: 0.4576 - val_acc: 0.7788\n",
      "Epoch 6/30\n",
      " - 0s - loss: 0.5215 - acc: 0.7715 - val_loss: 0.4474 - val_acc: 0.7788\n",
      "Epoch 7/30\n",
      " - 0s - loss: 0.5071 - acc: 0.7704 - val_loss: 0.4497 - val_acc: 0.7885\n",
      "Epoch 8/30\n",
      " - 0s - loss: 0.4955 - acc: 0.7779 - val_loss: 0.4514 - val_acc: 0.7885\n",
      "Epoch 9/30\n",
      " - 0s - loss: 0.4898 - acc: 0.7758 - val_loss: 0.4357 - val_acc: 0.7885\n",
      "Epoch 10/30\n",
      " - 0s - loss: 0.4856 - acc: 0.7725 - val_loss: 0.4280 - val_acc: 0.7885\n",
      "Epoch 11/30\n",
      " - 0s - loss: 0.4825 - acc: 0.7725 - val_loss: 0.4242 - val_acc: 0.8173\n",
      "Epoch 12/30\n",
      " - 0s - loss: 0.4784 - acc: 0.7715 - val_loss: 0.4241 - val_acc: 0.8173\n",
      "Epoch 13/30\n",
      " - 0s - loss: 0.4779 - acc: 0.7747 - val_loss: 0.4185 - val_acc: 0.8173\n",
      "Epoch 14/30\n",
      " - 0s - loss: 0.4771 - acc: 0.7715 - val_loss: 0.4132 - val_acc: 0.8077\n",
      "Epoch 15/30\n",
      " - 0s - loss: 0.4723 - acc: 0.7736 - val_loss: 0.4215 - val_acc: 0.8173\n",
      "Epoch 16/30\n",
      " - 0s - loss: 0.4715 - acc: 0.7758 - val_loss: 0.4078 - val_acc: 0.8077\n",
      "Epoch 17/30\n",
      " - 0s - loss: 0.4692 - acc: 0.7693 - val_loss: 0.4139 - val_acc: 0.8173\n",
      "Epoch 18/30\n",
      " - 0s - loss: 0.4667 - acc: 0.7758 - val_loss: 0.4057 - val_acc: 0.8173\n",
      "Epoch 19/30\n",
      " - 0s - loss: 0.4667 - acc: 0.7725 - val_loss: 0.3985 - val_acc: 0.8558\n",
      "Epoch 20/30\n",
      " - 0s - loss: 0.4702 - acc: 0.7822 - val_loss: 0.4023 - val_acc: 0.8365\n",
      "Epoch 21/30\n",
      " - 0s - loss: 0.4632 - acc: 0.7822 - val_loss: 0.3982 - val_acc: 0.8558\n",
      "Epoch 22/30\n",
      " - 0s - loss: 0.4671 - acc: 0.7833 - val_loss: 0.4033 - val_acc: 0.8365\n",
      "Epoch 23/30\n",
      " - 0s - loss: 0.4620 - acc: 0.7897 - val_loss: 0.4087 - val_acc: 0.8173\n",
      "Epoch 24/30\n",
      " - 0s - loss: 0.4627 - acc: 0.7768 - val_loss: 0.3964 - val_acc: 0.8462\n",
      "Epoch 25/30\n",
      " - 0s - loss: 0.4626 - acc: 0.7843 - val_loss: 0.3945 - val_acc: 0.8558\n",
      "Epoch 26/30\n",
      " - 0s - loss: 0.4614 - acc: 0.7972 - val_loss: 0.3947 - val_acc: 0.8558\n",
      "Epoch 27/30\n",
      " - 0s - loss: 0.4588 - acc: 0.7908 - val_loss: 0.3950 - val_acc: 0.8462\n",
      "Epoch 28/30\n",
      " - 0s - loss: 0.4579 - acc: 0.8004 - val_loss: 0.3974 - val_acc: 0.8462\n",
      "Epoch 29/30\n",
      " - 0s - loss: 0.4567 - acc: 0.7961 - val_loss: 0.3983 - val_acc: 0.8173\n",
      "Epoch 30/30\n",
      " - 0s - loss: 0.4578 - acc: 0.7929 - val_loss: 0.4002 - val_acc: 0.8173\n"
     ]
    }
   ],
   "source": [
    "##define how to train\n",
    "model.compile(loss='binary_crossentropy',optimizer='adam',metrics=['accuracy'])\n",
    "train_history=model.fit(x=X_train,y=y_train,validation_split=0.1,epochs=30,batch_size=30,verbose=2)"
   ]
  },
  {
   "cell_type": "code",
   "execution_count": 125,
   "metadata": {},
   "outputs": [
    {
     "data": {
      "image/png": "[encoded data removed]",
      "text/plain": [
       "<matplotlib.figure.Figure at 0x7fdde5ad5518>"
      ]
     },
     "metadata": {},
     "output_type": "display_data"
    }
   ],
   "source": [
    "import matplotlib.pyplot as plt\n",
    "def show_train_history(history,train,validation):\n",
    "    plt.plot(history.history[train])\n",
    "    plt.plot(history.history[validation])\n",
    "    plt.title('Train history')\n",
    "    plt.ylabel('train')\n",
    "    plt.xlabel('epoch')\n",
    "    plt.legend(['train','validation'],loc='upper left')\n",
    "    plt.show()\n",
    "show_train_history(train_history,'loss','val_loss')"
   ]
  },
  {
   "cell_type": "code",
   "execution_count": 132,
   "metadata": {},
   "outputs": [
    {
     "name": "stdout",
     "output_type": "stream",
     "text": [
      "273/273 [==============================] - 0s 105us/step\n"
     ]
    },
    {
     "data": {
      "text/plain": [
       "[0.44546605215404494, 0.7985347994081267]"
      ]
     },
     "execution_count": 132,
     "metadata": {},
     "output_type": "execute_result"
    }
   ],
   "source": [
    "##evaluate accuracy\n",
    "scores=model.evaluate(x=X_test,y=y_test)\n",
    "scores"
   ]
  }
 ],
 "metadata": {
  "kernelspec": {
   "display_name": "Python 3",
   "language": "python",
   "name": "python3"
  },
  "language_info": {
   "codemirror_mode": {
    "name": "ipython",
    "version": 3
   },
   "file_extension": ".py",
   "mimetype": "text/x-python",
   "name": "python",
   "nbconvert_exporter": "python",
   "pygments_lexer": "ipython3",
   "version": "3.6.4"
  }
 },
 "nbformat": 4,
 "nbformat_minor": 2
}
